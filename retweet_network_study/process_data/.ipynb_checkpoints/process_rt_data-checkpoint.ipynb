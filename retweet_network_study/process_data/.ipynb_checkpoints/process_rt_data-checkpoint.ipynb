{
 "cells": [
  {
   "cell_type": "code",
   "execution_count": 1,
   "metadata": {},
   "outputs": [],
   "source": [
    "# Import libraries:\n",
    "import pandas as pd\n",
    "import numpy as np\n",
    "import os\n",
    "import seaborn as sns\n",
    "import matplotlib.pyplot as plt\n",
    "from scipy.stats import skew, skewtest"
   ]
  },
  {
   "cell_type": "code",
   "execution_count": 2,
   "metadata": {},
   "outputs": [
    {
     "ename": "FileNotFoundError",
     "evalue": "[Errno 2] File ../data/rt_network.csv does not exist: '../data/rt_network.csv'",
     "output_type": "error",
     "traceback": [
      "\u001b[0;31m---------------------------------------------------------------------------\u001b[0m",
      "\u001b[0;31mFileNotFoundError\u001b[0m                         Traceback (most recent call last)",
      "\u001b[0;32m<ipython-input-2-3109380786aa>\u001b[0m in \u001b[0;36m<module>\u001b[0;34m\u001b[0m\n\u001b[1;32m     10\u001b[0m \u001b[0;34m\u001b[0m\u001b[0m\n\u001b[1;32m     11\u001b[0m \u001b[0;31m# Read in retweet data:\u001b[0m\u001b[0;34m\u001b[0m\u001b[0;34m\u001b[0m\u001b[0;34m\u001b[0m\u001b[0m\n\u001b[0;32m---> 12\u001b[0;31m \u001b[0mrt_df\u001b[0m \u001b[0;34m=\u001b[0m \u001b[0mpd\u001b[0m\u001b[0;34m.\u001b[0m\u001b[0mread_csv\u001b[0m\u001b[0;34m(\u001b[0m\u001b[0mrt_network_path\u001b[0m\u001b[0;34m)\u001b[0m\u001b[0;34m\u001b[0m\u001b[0;34m\u001b[0m\u001b[0m\n\u001b[0m",
      "\u001b[0;32m~/opt/anaconda3/lib/python3.8/site-packages/pandas/io/parsers.py\u001b[0m in \u001b[0;36mparser_f\u001b[0;34m(filepath_or_buffer, sep, delimiter, header, names, index_col, usecols, squeeze, prefix, mangle_dupe_cols, dtype, engine, converters, true_values, false_values, skipinitialspace, skiprows, skipfooter, nrows, na_values, keep_default_na, na_filter, verbose, skip_blank_lines, parse_dates, infer_datetime_format, keep_date_col, date_parser, dayfirst, cache_dates, iterator, chunksize, compression, thousands, decimal, lineterminator, quotechar, quoting, doublequote, escapechar, comment, encoding, dialect, error_bad_lines, warn_bad_lines, delim_whitespace, low_memory, memory_map, float_precision)\u001b[0m\n\u001b[1;32m    674\u001b[0m         )\n\u001b[1;32m    675\u001b[0m \u001b[0;34m\u001b[0m\u001b[0m\n\u001b[0;32m--> 676\u001b[0;31m         \u001b[0;32mreturn\u001b[0m \u001b[0m_read\u001b[0m\u001b[0;34m(\u001b[0m\u001b[0mfilepath_or_buffer\u001b[0m\u001b[0;34m,\u001b[0m \u001b[0mkwds\u001b[0m\u001b[0;34m)\u001b[0m\u001b[0;34m\u001b[0m\u001b[0;34m\u001b[0m\u001b[0m\n\u001b[0m\u001b[1;32m    677\u001b[0m \u001b[0;34m\u001b[0m\u001b[0m\n\u001b[1;32m    678\u001b[0m     \u001b[0mparser_f\u001b[0m\u001b[0;34m.\u001b[0m\u001b[0m__name__\u001b[0m \u001b[0;34m=\u001b[0m \u001b[0mname\u001b[0m\u001b[0;34m\u001b[0m\u001b[0;34m\u001b[0m\u001b[0m\n",
      "\u001b[0;32m~/opt/anaconda3/lib/python3.8/site-packages/pandas/io/parsers.py\u001b[0m in \u001b[0;36m_read\u001b[0;34m(filepath_or_buffer, kwds)\u001b[0m\n\u001b[1;32m    446\u001b[0m \u001b[0;34m\u001b[0m\u001b[0m\n\u001b[1;32m    447\u001b[0m     \u001b[0;31m# Create the parser.\u001b[0m\u001b[0;34m\u001b[0m\u001b[0;34m\u001b[0m\u001b[0;34m\u001b[0m\u001b[0m\n\u001b[0;32m--> 448\u001b[0;31m     \u001b[0mparser\u001b[0m \u001b[0;34m=\u001b[0m \u001b[0mTextFileReader\u001b[0m\u001b[0;34m(\u001b[0m\u001b[0mfp_or_buf\u001b[0m\u001b[0;34m,\u001b[0m \u001b[0;34m**\u001b[0m\u001b[0mkwds\u001b[0m\u001b[0;34m)\u001b[0m\u001b[0;34m\u001b[0m\u001b[0;34m\u001b[0m\u001b[0m\n\u001b[0m\u001b[1;32m    449\u001b[0m \u001b[0;34m\u001b[0m\u001b[0m\n\u001b[1;32m    450\u001b[0m     \u001b[0;32mif\u001b[0m \u001b[0mchunksize\u001b[0m \u001b[0;32mor\u001b[0m \u001b[0miterator\u001b[0m\u001b[0;34m:\u001b[0m\u001b[0;34m\u001b[0m\u001b[0;34m\u001b[0m\u001b[0m\n",
      "\u001b[0;32m~/opt/anaconda3/lib/python3.8/site-packages/pandas/io/parsers.py\u001b[0m in \u001b[0;36m__init__\u001b[0;34m(self, f, engine, **kwds)\u001b[0m\n\u001b[1;32m    878\u001b[0m             \u001b[0mself\u001b[0m\u001b[0;34m.\u001b[0m\u001b[0moptions\u001b[0m\u001b[0;34m[\u001b[0m\u001b[0;34m\"has_index_names\"\u001b[0m\u001b[0;34m]\u001b[0m \u001b[0;34m=\u001b[0m \u001b[0mkwds\u001b[0m\u001b[0;34m[\u001b[0m\u001b[0;34m\"has_index_names\"\u001b[0m\u001b[0;34m]\u001b[0m\u001b[0;34m\u001b[0m\u001b[0;34m\u001b[0m\u001b[0m\n\u001b[1;32m    879\u001b[0m \u001b[0;34m\u001b[0m\u001b[0m\n\u001b[0;32m--> 880\u001b[0;31m         \u001b[0mself\u001b[0m\u001b[0;34m.\u001b[0m\u001b[0m_make_engine\u001b[0m\u001b[0;34m(\u001b[0m\u001b[0mself\u001b[0m\u001b[0;34m.\u001b[0m\u001b[0mengine\u001b[0m\u001b[0;34m)\u001b[0m\u001b[0;34m\u001b[0m\u001b[0;34m\u001b[0m\u001b[0m\n\u001b[0m\u001b[1;32m    881\u001b[0m \u001b[0;34m\u001b[0m\u001b[0m\n\u001b[1;32m    882\u001b[0m     \u001b[0;32mdef\u001b[0m \u001b[0mclose\u001b[0m\u001b[0;34m(\u001b[0m\u001b[0mself\u001b[0m\u001b[0;34m)\u001b[0m\u001b[0;34m:\u001b[0m\u001b[0;34m\u001b[0m\u001b[0;34m\u001b[0m\u001b[0m\n",
      "\u001b[0;32m~/opt/anaconda3/lib/python3.8/site-packages/pandas/io/parsers.py\u001b[0m in \u001b[0;36m_make_engine\u001b[0;34m(self, engine)\u001b[0m\n\u001b[1;32m   1112\u001b[0m     \u001b[0;32mdef\u001b[0m \u001b[0m_make_engine\u001b[0m\u001b[0;34m(\u001b[0m\u001b[0mself\u001b[0m\u001b[0;34m,\u001b[0m \u001b[0mengine\u001b[0m\u001b[0;34m=\u001b[0m\u001b[0;34m\"c\"\u001b[0m\u001b[0;34m)\u001b[0m\u001b[0;34m:\u001b[0m\u001b[0;34m\u001b[0m\u001b[0;34m\u001b[0m\u001b[0m\n\u001b[1;32m   1113\u001b[0m         \u001b[0;32mif\u001b[0m \u001b[0mengine\u001b[0m \u001b[0;34m==\u001b[0m \u001b[0;34m\"c\"\u001b[0m\u001b[0;34m:\u001b[0m\u001b[0;34m\u001b[0m\u001b[0;34m\u001b[0m\u001b[0m\n\u001b[0;32m-> 1114\u001b[0;31m             \u001b[0mself\u001b[0m\u001b[0;34m.\u001b[0m\u001b[0m_engine\u001b[0m \u001b[0;34m=\u001b[0m \u001b[0mCParserWrapper\u001b[0m\u001b[0;34m(\u001b[0m\u001b[0mself\u001b[0m\u001b[0;34m.\u001b[0m\u001b[0mf\u001b[0m\u001b[0;34m,\u001b[0m \u001b[0;34m**\u001b[0m\u001b[0mself\u001b[0m\u001b[0;34m.\u001b[0m\u001b[0moptions\u001b[0m\u001b[0;34m)\u001b[0m\u001b[0;34m\u001b[0m\u001b[0;34m\u001b[0m\u001b[0m\n\u001b[0m\u001b[1;32m   1115\u001b[0m         \u001b[0;32melse\u001b[0m\u001b[0;34m:\u001b[0m\u001b[0;34m\u001b[0m\u001b[0;34m\u001b[0m\u001b[0m\n\u001b[1;32m   1116\u001b[0m             \u001b[0;32mif\u001b[0m \u001b[0mengine\u001b[0m \u001b[0;34m==\u001b[0m \u001b[0;34m\"python\"\u001b[0m\u001b[0;34m:\u001b[0m\u001b[0;34m\u001b[0m\u001b[0;34m\u001b[0m\u001b[0m\n",
      "\u001b[0;32m~/opt/anaconda3/lib/python3.8/site-packages/pandas/io/parsers.py\u001b[0m in \u001b[0;36m__init__\u001b[0;34m(self, src, **kwds)\u001b[0m\n\u001b[1;32m   1889\u001b[0m         \u001b[0mkwds\u001b[0m\u001b[0;34m[\u001b[0m\u001b[0;34m\"usecols\"\u001b[0m\u001b[0;34m]\u001b[0m \u001b[0;34m=\u001b[0m \u001b[0mself\u001b[0m\u001b[0;34m.\u001b[0m\u001b[0musecols\u001b[0m\u001b[0;34m\u001b[0m\u001b[0;34m\u001b[0m\u001b[0m\n\u001b[1;32m   1890\u001b[0m \u001b[0;34m\u001b[0m\u001b[0m\n\u001b[0;32m-> 1891\u001b[0;31m         \u001b[0mself\u001b[0m\u001b[0;34m.\u001b[0m\u001b[0m_reader\u001b[0m \u001b[0;34m=\u001b[0m \u001b[0mparsers\u001b[0m\u001b[0;34m.\u001b[0m\u001b[0mTextReader\u001b[0m\u001b[0;34m(\u001b[0m\u001b[0msrc\u001b[0m\u001b[0;34m,\u001b[0m \u001b[0;34m**\u001b[0m\u001b[0mkwds\u001b[0m\u001b[0;34m)\u001b[0m\u001b[0;34m\u001b[0m\u001b[0;34m\u001b[0m\u001b[0m\n\u001b[0m\u001b[1;32m   1892\u001b[0m         \u001b[0mself\u001b[0m\u001b[0;34m.\u001b[0m\u001b[0munnamed_cols\u001b[0m \u001b[0;34m=\u001b[0m \u001b[0mself\u001b[0m\u001b[0;34m.\u001b[0m\u001b[0m_reader\u001b[0m\u001b[0;34m.\u001b[0m\u001b[0munnamed_cols\u001b[0m\u001b[0;34m\u001b[0m\u001b[0;34m\u001b[0m\u001b[0m\n\u001b[1;32m   1893\u001b[0m \u001b[0;34m\u001b[0m\u001b[0m\n",
      "\u001b[0;32mpandas/_libs/parsers.pyx\u001b[0m in \u001b[0;36mpandas._libs.parsers.TextReader.__cinit__\u001b[0;34m()\u001b[0m\n",
      "\u001b[0;32mpandas/_libs/parsers.pyx\u001b[0m in \u001b[0;36mpandas._libs.parsers.TextReader._setup_parser_source\u001b[0;34m()\u001b[0m\n",
      "\u001b[0;31mFileNotFoundError\u001b[0m: [Errno 2] File ../data/rt_network.csv does not exist: '../data/rt_network.csv'"
     ]
    }
   ],
   "source": [
    "# Define data folder pathway:\n",
    "data_path = os.path.join('..', 'data')\n",
    "\n",
    "# Define dataset pathways:\n",
    "users_path = os.path.join(data_path, 'users_ratings.csv')\n",
    "rt_network_path = os.path.join(data_path, 'rt_network.csv')\n",
    "\n",
    "# Read in users data:\n",
    "users_df = pd.read_csv(users_path)\n",
    "\n",
    "# Read in retweet data:\n",
    "rt_df = pd.read_csv(rt_network_path)"
   ]
  },
  {
   "cell_type": "code",
   "execution_count": 3,
   "metadata": {},
   "outputs": [
    {
     "data": {
      "text/html": [
       "<div>\n",
       "<style scoped>\n",
       "    .dataframe tbody tr th:only-of-type {\n",
       "        vertical-align: middle;\n",
       "    }\n",
       "\n",
       "    .dataframe tbody tr th {\n",
       "        vertical-align: top;\n",
       "    }\n",
       "\n",
       "    .dataframe thead th {\n",
       "        text-align: right;\n",
       "    }\n",
       "</style>\n",
       "<table border=\"1\" class=\"dataframe\">\n",
       "  <thead>\n",
       "    <tr style=\"text-align: right;\">\n",
       "      <th></th>\n",
       "      <th>userid</th>\n",
       "      <th>orig_rating</th>\n",
       "      <th>orig_rated_count</th>\n",
       "      <th>orig_total_count</th>\n",
       "      <th>rtw_rating</th>\n",
       "      <th>rtw_rated_count</th>\n",
       "      <th>rtw_total_count</th>\n",
       "    </tr>\n",
       "  </thead>\n",
       "  <tbody>\n",
       "    <tr>\n",
       "      <th>0</th>\n",
       "      <td>15109931</td>\n",
       "      <td>NaN</td>\n",
       "      <td>NaN</td>\n",
       "      <td>NaN</td>\n",
       "      <td>0.833333</td>\n",
       "      <td>6.0</td>\n",
       "      <td>6.0</td>\n",
       "    </tr>\n",
       "    <tr>\n",
       "      <th>1</th>\n",
       "      <td>239232758</td>\n",
       "      <td>-1.666667</td>\n",
       "      <td>6.0</td>\n",
       "      <td>6.0</td>\n",
       "      <td>NaN</td>\n",
       "      <td>NaN</td>\n",
       "      <td>0.0</td>\n",
       "    </tr>\n",
       "    <tr>\n",
       "      <th>2</th>\n",
       "      <td>26362590</td>\n",
       "      <td>NaN</td>\n",
       "      <td>NaN</td>\n",
       "      <td>0.0</td>\n",
       "      <td>1.416667</td>\n",
       "      <td>12.0</td>\n",
       "      <td>12.0</td>\n",
       "    </tr>\n",
       "    <tr>\n",
       "      <th>3</th>\n",
       "      <td>1079483490968702978</td>\n",
       "      <td>NaN</td>\n",
       "      <td>NaN</td>\n",
       "      <td>NaN</td>\n",
       "      <td>1.333333</td>\n",
       "      <td>3.0</td>\n",
       "      <td>3.0</td>\n",
       "    </tr>\n",
       "    <tr>\n",
       "      <th>4</th>\n",
       "      <td>1048326771807068161</td>\n",
       "      <td>-1.666667</td>\n",
       "      <td>3.0</td>\n",
       "      <td>3.0</td>\n",
       "      <td>-1.000000</td>\n",
       "      <td>41.0</td>\n",
       "      <td>41.0</td>\n",
       "    </tr>\n",
       "  </tbody>\n",
       "</table>\n",
       "</div>"
      ],
      "text/plain": [
       "                userid  orig_rating  orig_rated_count  orig_total_count  \\\n",
       "0             15109931          NaN               NaN               NaN   \n",
       "1            239232758    -1.666667               6.0               6.0   \n",
       "2             26362590          NaN               NaN               0.0   \n",
       "3  1079483490968702978          NaN               NaN               NaN   \n",
       "4  1048326771807068161    -1.666667               3.0               3.0   \n",
       "\n",
       "   rtw_rating  rtw_rated_count  rtw_total_count  \n",
       "0    0.833333              6.0              6.0  \n",
       "1         NaN              NaN              0.0  \n",
       "2    1.416667             12.0             12.0  \n",
       "3    1.333333              3.0              3.0  \n",
       "4   -1.000000             41.0             41.0  "
      ]
     },
     "execution_count": 3,
     "metadata": {},
     "output_type": "execute_result"
    }
   ],
   "source": [
    "# View first five rows of users data:\n",
    "users_df.head()"
   ]
  },
  {
   "cell_type": "code",
   "execution_count": 4,
   "metadata": {},
   "outputs": [
    {
     "data": {
      "text/html": [
       "<div>\n",
       "<style scoped>\n",
       "    .dataframe tbody tr th:only-of-type {\n",
       "        vertical-align: middle;\n",
       "    }\n",
       "\n",
       "    .dataframe tbody tr th {\n",
       "        vertical-align: top;\n",
       "    }\n",
       "\n",
       "    .dataframe thead th {\n",
       "        text-align: right;\n",
       "    }\n",
       "</style>\n",
       "<table border=\"1\" class=\"dataframe\">\n",
       "  <thead>\n",
       "    <tr style=\"text-align: right;\">\n",
       "      <th></th>\n",
       "      <th>userid</th>\n",
       "      <th>rt_userid</th>\n",
       "      <th>rt</th>\n",
       "    </tr>\n",
       "  </thead>\n",
       "  <tbody>\n",
       "    <tr>\n",
       "      <th>0</th>\n",
       "      <td>57</td>\n",
       "      <td>15496005</td>\n",
       "      <td>1</td>\n",
       "    </tr>\n",
       "    <tr>\n",
       "      <th>1</th>\n",
       "      <td>57</td>\n",
       "      <td>15952856</td>\n",
       "      <td>1</td>\n",
       "    </tr>\n",
       "    <tr>\n",
       "      <th>2</th>\n",
       "      <td>57</td>\n",
       "      <td>17375057</td>\n",
       "      <td>1</td>\n",
       "    </tr>\n",
       "    <tr>\n",
       "      <th>3</th>\n",
       "      <td>57</td>\n",
       "      <td>19847765</td>\n",
       "      <td>1</td>\n",
       "    </tr>\n",
       "    <tr>\n",
       "      <th>4</th>\n",
       "      <td>57</td>\n",
       "      <td>84734907</td>\n",
       "      <td>1</td>\n",
       "    </tr>\n",
       "  </tbody>\n",
       "</table>\n",
       "</div>"
      ],
      "text/plain": [
       "   userid  rt_userid  rt\n",
       "0      57   15496005   1\n",
       "1      57   15952856   1\n",
       "2      57   17375057   1\n",
       "3      57   19847765   1\n",
       "4      57   84734907   1"
      ]
     },
     "execution_count": 4,
     "metadata": {},
     "output_type": "execute_result"
    }
   ],
   "source": [
    "# View first five rows of retweet data:\n",
    "rt_df.head()"
   ]
  },
  {
   "cell_type": "code",
   "execution_count": 5,
   "metadata": {},
   "outputs": [
    {
     "name": "stdout",
     "output_type": "stream",
     "text": [
      "total users: 1865559\n"
     ]
    }
   ],
   "source": [
    "# Number of unique users in dataset:\n",
    "n_users = len(np.unique(users_df['userid']))\n",
    "\n",
    "print(f'total users: {n_users}')"
   ]
  },
  {
   "cell_type": "code",
   "execution_count": 6,
   "metadata": {},
   "outputs": [],
   "source": [
    "# Subset into liberal/conservative/moderate users:\n",
    "users_libs = users_df[users_df['orig_rating'] < 0]\n",
    "users_cons = users_df[users_df['orig_rating'] > 0]\n",
    "users_mod = users_df[users_df['orig_rating'] == 0]"
   ]
  },
  {
   "cell_type": "code",
   "execution_count": 7,
   "metadata": {},
   "outputs": [
    {
     "name": "stdout",
     "output_type": "stream",
     "text": [
      "total liberal users: 274437\n",
      "total conservative users: 147434\n",
      "total moderate users: 61544\n",
      "total with no political rating: 1382144\n"
     ]
    }
   ],
   "source": [
    "# Number of liberal/conservative/moderate users:\n",
    "n_libs = len(np.unique(users_libs['userid']))\n",
    "n_cons = len(np.unique(users_cons['userid']))\n",
    "n_mods = len(np.unique(users_mod['userid']))\n",
    "\n",
    "# Number of users without ratings:\n",
    "n_na = users_df['orig_rating'].isna().sum().sum()\n",
    "\n",
    "print(f'total liberal users: {n_libs}')\n",
    "print(f'total conservative users: {n_cons}')\n",
    "print(f'total moderate users: {n_mods}')\n",
    "print(f'total with no political rating: {n_na}')"
   ]
  },
  {
   "cell_type": "code",
   "execution_count": 8,
   "metadata": {},
   "outputs": [
    {
     "name": "stdout",
     "output_type": "stream",
     "text": [
      "total users with ratings: 483415\n",
      "total partisan users: 421871\n"
     ]
    }
   ],
   "source": [
    "# Number of users with ratings:\n",
    "n_ratings = n_libs + n_cons + n_mods\n",
    "\n",
    "# Number of partisan users:\n",
    "n_partisan_ratings = n_libs + n_cons\n",
    "\n",
    "print(f'total users with ratings: {n_ratings}')\n",
    "print(f'total partisan users: {n_partisan_ratings}')"
   ]
  },
  {
   "cell_type": "code",
   "execution_count": 9,
   "metadata": {},
   "outputs": [],
   "source": [
    "# Subset down to users with 5+ original tweets:\n",
    "users_min_tweets = users_df[users_df['orig_total_count'] >= 5]\n",
    "\n",
    "# View cons/libs with 5+ original tweets separately:\n",
    "cons = users_min_tweets[users_min_tweets['orig_rating'] > 0]\n",
    "libs = users_min_tweets[users_min_tweets['orig_rating'] < 0]"
   ]
  },
  {
   "cell_type": "code",
   "execution_count": 10,
   "metadata": {},
   "outputs": [
    {
     "name": "stdout",
     "output_type": "stream",
     "text": [
      "Total number of conservative users with 5+ original tweets: 28688\n",
      "Total number of liberal users with 5+ original tweets: 48754\n"
     ]
    }
   ],
   "source": [
    "n_cons_above_min_tweets = len(np.unique(cons['userid']))\n",
    "n_libs_above_min_tweets = len(np.unique(libs['userid']))\n",
    "\n",
    "print(f'Total number of conservative users with 5+ original tweets: {n_cons_above_min_tweets}')\n",
    "print(f'Total number of liberal users with 5+ original tweets: {n_libs_above_min_tweets}')"
   ]
  },
  {
   "cell_type": "code",
   "execution_count": 11,
   "metadata": {},
   "outputs": [],
   "source": [
    "user_df = pd.DataFrame({'userid': np.unique(users_min_tweets['userid'].values)})"
   ]
  },
  {
   "cell_type": "code",
   "execution_count": 21,
   "metadata": {},
   "outputs": [],
   "source": [
    "users_df = users_df[users_df['userid'].isin(users_min_tweets['userid'].values)]"
   ]
  },
  {
   "cell_type": "code",
   "execution_count": 23,
   "metadata": {},
   "outputs": [
    {
     "data": {
      "text/plain": [
       "userid                  0\n",
       "orig_rating             0\n",
       "orig_rated_count        0\n",
       "orig_total_count        0\n",
       "rtw_rating          23158\n",
       "rtw_rated_count     23158\n",
       "rtw_total_count      7220\n",
       "dtype: int64"
      ]
     },
     "execution_count": 23,
     "metadata": {},
     "output_type": "execute_result"
    }
   ],
   "source": [
    "users_df.isnull().sum()"
   ]
  },
  {
   "cell_type": "code",
   "execution_count": 12,
   "metadata": {},
   "outputs": [],
   "source": [
    "# Subset retweet network ID to contain only egos and peers that meet min tweet threshold:\n",
    "cons_joined = rt_df[rt_df['userid'].isin(cons['userid']) \\\n",
    "                  & rt_df['rt_userid'].isin(cons['userid'])]\n",
    "\n",
    "# Filter out users who retweeted self:\n",
    "cons_joined = cons_joined[cons_joined['userid'] != cons_joined['rt_userid']]"
   ]
  },
  {
   "cell_type": "code",
   "execution_count": 13,
   "metadata": {},
   "outputs": [],
   "source": [
    "# Subsetting retweet network ID to contain only egos and peers that meet min tweet threshold:\n",
    "libs_joined = rt_df[rt_df['userid'].isin(libs['userid']) \\\n",
    "                  & rt_df['rt_userid'].isin(libs['userid'])]\n",
    "#r_r = r_r.sample(frac=0.2)\n",
    "\n",
    "libs_joined = libs_joined[libs_joined['userid'] != libs_joined['rt_userid']]"
   ]
  },
  {
   "cell_type": "code",
   "execution_count": 14,
   "metadata": {},
   "outputs": [
    {
     "name": "stdout",
     "output_type": "stream",
     "text": [
      "Final number of conservative users: 25776\n",
      "Final number of liberal users: 41107\n"
     ]
    }
   ],
   "source": [
    "n_cons_final = len(np.unique(cons_joined['userid']))\n",
    "n_libs_final = len(np.unique(libs_joined['userid']))\n",
    "\n",
    "print(f'Final number of conservative users: {n_cons_final}')\n",
    "print(f'Final number of liberal users: {n_libs_final}')"
   ]
  },
  {
   "cell_type": "code",
   "execution_count": 15,
   "metadata": {},
   "outputs": [
    {
     "name": "stdout",
     "output_type": "stream",
     "text": [
      "Total number of ego-peer relationships among conservatives: 1723179\n",
      "Total number of ego-peer relationships among liberals: 2535764\n"
     ]
    }
   ],
   "source": [
    "print(f'Total number of ego-peer relationships among conservatives: {len(cons_joined)}')\n",
    "print(f'Total number of ego-peer relationships among liberals: {len(libs_joined)}')"
   ]
  },
  {
   "cell_type": "code",
   "execution_count": 16,
   "metadata": {},
   "outputs": [
    {
     "name": "stdout",
     "output_type": "stream",
     "text": [
      "Total number of retweets among conservatives: 8682758\n",
      "Total number of retweets among liberals: 7292209\n"
     ]
    }
   ],
   "source": [
    "n_rt_cons = np.sum(cons_joined['rt'])\n",
    "n_rt_libs = np.sum(libs_joined['rt'])\n",
    "\n",
    "print(f'Total number of retweets among conservatives: {n_rt_cons}')\n",
    "print(f'Total number of retweets among liberals: {n_rt_libs}')"
   ]
  },
  {
   "cell_type": "code",
   "execution_count": 17,
   "metadata": {},
   "outputs": [],
   "source": [
    "all_joined = pd.concat([cons_joined, libs_joined], axis=0)"
   ]
  },
  {
   "cell_type": "code",
   "execution_count": 18,
   "metadata": {},
   "outputs": [
    {
     "data": {
      "text/plain": [
       "(4258943, 3)"
      ]
     },
     "execution_count": 18,
     "metadata": {},
     "output_type": "execute_result"
    }
   ],
   "source": [
    "all_joined.shape"
   ]
  },
  {
   "cell_type": "code",
   "execution_count": 19,
   "metadata": {},
   "outputs": [],
   "source": [
    "all_joined = all_joined.sample(frac=0.2)"
   ]
  },
  {
   "cell_type": "code",
   "execution_count": 20,
   "metadata": {},
   "outputs": [
    {
     "data": {
      "text/plain": [
       "(851789, 3)"
      ]
     },
     "execution_count": 20,
     "metadata": {},
     "output_type": "execute_result"
    }
   ],
   "source": [
    "all_joined.shape"
   ]
  },
  {
   "cell_type": "code",
   "execution_count": 21,
   "metadata": {},
   "outputs": [],
   "source": [
    "all_joined = all_joined[all_joined['rt'] <= 70]"
   ]
  },
  {
   "cell_type": "code",
   "execution_count": 22,
   "metadata": {},
   "outputs": [
    {
     "data": {
      "text/plain": [
       "<matplotlib.lines.Line2D at 0x7f9db21b6c10>"
      ]
     },
     "execution_count": 22,
     "metadata": {},
     "output_type": "execute_result"
    },
    {
     "data": {
      "image/png": "[encoded data removed]",
      "text/plain": [
       "<Figure size 360x360 with 1 Axes>"
      ]
     },
     "metadata": {
      "needs_background": "light"
     },
     "output_type": "display_data"
    }
   ],
   "source": [
    "sns.displot(all_joined['rt'], kind='kde')\n",
    "plt.axvline(x=40, ymin=0, ymax=0.05, color='red')"
   ]
  },
  {
   "cell_type": "code",
   "execution_count": 23,
   "metadata": {},
   "outputs": [
    {
     "data": {
      "text/plain": [
       "(847409, 3)"
      ]
     },
     "execution_count": 23,
     "metadata": {},
     "output_type": "execute_result"
    }
   ],
   "source": [
    "all_joined.shape"
   ]
  },
  {
   "cell_type": "code",
   "execution_count": 28,
   "metadata": {},
   "outputs": [
    {
     "data": {
      "text/html": [
       "<div>\n",
       "<style scoped>\n",
       "    .dataframe tbody tr th:only-of-type {\n",
       "        vertical-align: middle;\n",
       "    }\n",
       "\n",
       "    .dataframe tbody tr th {\n",
       "        vertical-align: top;\n",
       "    }\n",
       "\n",
       "    .dataframe thead th {\n",
       "        text-align: right;\n",
       "    }\n",
       "</style>\n",
       "<table border=\"1\" class=\"dataframe\">\n",
       "  <thead>\n",
       "    <tr style=\"text-align: right;\">\n",
       "      <th></th>\n",
       "      <th>userid</th>\n",
       "      <th>rt_userid</th>\n",
       "      <th>rt</th>\n",
       "    </tr>\n",
       "  </thead>\n",
       "  <tbody>\n",
       "    <tr>\n",
       "      <th>52783735</th>\n",
       "      <td>3068933499</td>\n",
       "      <td>20776147</td>\n",
       "      <td>1</td>\n",
       "    </tr>\n",
       "    <tr>\n",
       "      <th>9615049</th>\n",
       "      <td>38877250</td>\n",
       "      <td>471677441</td>\n",
       "      <td>4</td>\n",
       "    </tr>\n",
       "    <tr>\n",
       "      <th>6473788</th>\n",
       "      <td>26496978</td>\n",
       "      <td>495379332</td>\n",
       "      <td>3</td>\n",
       "    </tr>\n",
       "    <tr>\n",
       "      <th>100575538</th>\n",
       "      <td>1267282717806338048</td>\n",
       "      <td>15384969</td>\n",
       "      <td>1</td>\n",
       "    </tr>\n",
       "    <tr>\n",
       "      <th>97273224</th>\n",
       "      <td>1246733011103756288</td>\n",
       "      <td>30540789</td>\n",
       "      <td>1</td>\n",
       "    </tr>\n",
       "  </tbody>\n",
       "</table>\n",
       "</div>"
      ],
      "text/plain": [
       "                        userid  rt_userid  rt\n",
       "52783735            3068933499   20776147   1\n",
       "9615049               38877250  471677441   4\n",
       "6473788               26496978  495379332   3\n",
       "100575538  1267282717806338048   15384969   1\n",
       "97273224   1246733011103756288   30540789   1"
      ]
     },
     "execution_count": 28,
     "metadata": {},
     "output_type": "execute_result"
    }
   ],
   "source": [
    "all_joined.head()"
   ]
  },
  {
   "cell_type": "code",
   "execution_count": 24,
   "metadata": {},
   "outputs": [],
   "source": [
    "#all_joined.to_csv('../data/processed_rt_user_data.csv', index=False)"
   ]
  },
  {
   "cell_type": "code",
   "execution_count": 35,
   "metadata": {},
   "outputs": [],
   "source": [
    "pct_agg_func = lambda x: np.round(100*(len(x) / len(all_joined)), \n",
    "                                            decimals=2)\n",
    "threshold_df = (all_joined\n",
    "                    .groupby('rt')\n",
    "                    .agg(count=('userid', 'count'),\n",
    "                         pct=('userid', pct_agg_func))\n",
    "                    .iloc[:10])"
   ]
  },
  {
   "cell_type": "code",
   "execution_count": 36,
   "metadata": {},
   "outputs": [
    {
     "data": {
      "text/html": [
       "<div>\n",
       "<style scoped>\n",
       "    .dataframe tbody tr th:only-of-type {\n",
       "        vertical-align: middle;\n",
       "    }\n",
       "\n",
       "    .dataframe tbody tr th {\n",
       "        vertical-align: top;\n",
       "    }\n",
       "\n",
       "    .dataframe thead th {\n",
       "        text-align: right;\n",
       "    }\n",
       "</style>\n",
       "<table border=\"1\" class=\"dataframe\">\n",
       "  <thead>\n",
       "    <tr style=\"text-align: right;\">\n",
       "      <th></th>\n",
       "      <th>count</th>\n",
       "      <th>pct</th>\n",
       "    </tr>\n",
       "    <tr>\n",
       "      <th>rt</th>\n",
       "      <th></th>\n",
       "      <th></th>\n",
       "    </tr>\n",
       "  </thead>\n",
       "  <tbody>\n",
       "    <tr>\n",
       "      <th>1</th>\n",
       "      <td>569285</td>\n",
       "      <td>67.18</td>\n",
       "    </tr>\n",
       "    <tr>\n",
       "      <th>2</th>\n",
       "      <td>116049</td>\n",
       "      <td>13.69</td>\n",
       "    </tr>\n",
       "    <tr>\n",
       "      <th>3</th>\n",
       "      <td>49322</td>\n",
       "      <td>5.82</td>\n",
       "    </tr>\n",
       "    <tr>\n",
       "      <th>4</th>\n",
       "      <td>27378</td>\n",
       "      <td>3.23</td>\n",
       "    </tr>\n",
       "    <tr>\n",
       "      <th>5</th>\n",
       "      <td>17273</td>\n",
       "      <td>2.04</td>\n",
       "    </tr>\n",
       "    <tr>\n",
       "      <th>6</th>\n",
       "      <td>11693</td>\n",
       "      <td>1.38</td>\n",
       "    </tr>\n",
       "    <tr>\n",
       "      <th>7</th>\n",
       "      <td>8692</td>\n",
       "      <td>1.03</td>\n",
       "    </tr>\n",
       "    <tr>\n",
       "      <th>8</th>\n",
       "      <td>6702</td>\n",
       "      <td>0.79</td>\n",
       "    </tr>\n",
       "    <tr>\n",
       "      <th>9</th>\n",
       "      <td>5211</td>\n",
       "      <td>0.61</td>\n",
       "    </tr>\n",
       "    <tr>\n",
       "      <th>10</th>\n",
       "      <td>4193</td>\n",
       "      <td>0.49</td>\n",
       "    </tr>\n",
       "  </tbody>\n",
       "</table>\n",
       "</div>"
      ],
      "text/plain": [
       "     count    pct\n",
       "rt               \n",
       "1   569285  67.18\n",
       "2   116049  13.69\n",
       "3    49322   5.82\n",
       "4    27378   3.23\n",
       "5    17273   2.04\n",
       "6    11693   1.38\n",
       "7     8692   1.03\n",
       "8     6702   0.79\n",
       "9     5211   0.61\n",
       "10    4193   0.49"
      ]
     },
     "execution_count": 36,
     "metadata": {},
     "output_type": "execute_result"
    }
   ],
   "source": [
    "threshold_df"
   ]
  },
  {
   "cell_type": "code",
   "execution_count": 38,
   "metadata": {},
   "outputs": [
    {
     "data": {
      "image/png": "[encoded data removed]",
      "text/plain": [
       "<Figure size 640x480 with 1 Axes>"
      ]
     },
     "metadata": {},
     "output_type": "display_data"
    }
   ],
   "source": [
    "threshold_props = threshold_df['pct']\n",
    "rt_vals = threshold_df.index.values\n",
    "\n",
    "ax = sns.barplot(x=rt_vals, y=threshold_props)\n",
    "for i in ax.containers:\n",
    "    ax.bar_label(i,)\n",
    "\n",
    "plt.title('Percent of Data by Retweet Count')\n",
    "plt.xlabel('Retweet Count')\n",
    "plt.ylabel('Percent')\n",
    "plt.savefig('../figures/percent_of_data_by_rt_count.png')\n",
    "plt.show();"
   ]
  },
  {
   "cell_type": "code",
   "execution_count": 39,
   "metadata": {},
   "outputs": [
    {
     "data": {
      "image/png": "[encoded data removed]",
      "text/plain": [
       "<Figure size 640x480 with 1 Axes>"
      ]
     },
     "metadata": {},
     "output_type": "display_data"
    }
   ],
   "source": [
    "threshold_counts = threshold_df['count']\n",
    "ax = sns.barplot(x=rt_vals, y=threshold_counts)\n",
    "for i in ax.containers:\n",
    "    ax.bar_label(i,)\n",
    "\n",
    "plt.title('Count of Data by Retweet Count')\n",
    "plt.xlabel('Retweet Count')\n",
    "plt.ylabel('Count')\n",
    "plt.savefig('../figures/count_of_data_by_rt_count.png')\n",
    "plt.show();"
   ]
  },
  {
   "cell_type": "code",
   "execution_count": 40,
   "metadata": {},
   "outputs": [],
   "source": [
    "threshold_df.to_csv('../data/counts_pcts_by_retweet_count.csv')"
   ]
  },
  {
   "cell_type": "code",
   "execution_count": 2,
   "metadata": {},
   "outputs": [],
   "source": [
    "# Define class TwitterDataProcessor:\n",
    "class TwitterDataProcessor:\n",
    "    \"\"\"\n",
    "    The TwitterDataProcessor class takes six parameters:\n",
    "\n",
    "    1. poli_affil: the political affiliation ('left' or 'right') of users for which we wish to run the simulation\n",
    "    2. frac_data: whether we wish to run the simulation on only a fraction of the data.\n",
    "    3. frac_start: the starting percentage of users (in decimal form) if frac_data set to True\n",
    "    4. frac_end: the ending percentage of users (in decimal form) if frac_data set to True\n",
    "    5. users_file: The users ratings dataset CSV file path.\n",
    "    6. rt_fle: The retweet network dataset CSV file path.\n",
    "\n",
    "    There are three main functions:\n",
    "\n",
    "    1. load_raw_data: This function loads the raw data for both the users ratings and retweet network datasets.\n",
    "    2. preprocess_data: This function performs the following preprocessing steps for the data:\n",
    "        - It subsets the users dataframe based on the chosen political affiliation on which to run the simulation.\n",
    "        - It filters out both egos and peers with original tweet counts of less than 5 in both dataframes.\n",
    "        - It filters out cases where egos retweeted themselves in the retweet dataframe.\n",
    "        - It subsets down to the chosen fraction of users (if frac_data set to True) in the retweet dataframe.\n",
    "    3. join_data: This function joins the users ratings dataset with the retweet dataset and suffixes to\n",
    "    distinguish between ego and peer ratings.\n",
    "\n",
    "    The main function get_retweet_data calls these functions in succession to create the final dataset.\n",
    "    \"\"\"\n",
    "\n",
    "    def __init__(self, poli_affil, frac_data=False, frac_start=None, frac_end=None,\n",
    "                 users_file=os.path.join('..', 'data', 'users_ratings.csv'), \n",
    "                 rt_file=os.path.join('..', 'data', 'rt_network.csv')):\n",
    "\n",
    "        # Initialize political affiliation and data fraction attributes:\n",
    "        self.poli_affil = poli_affil\n",
    "        self.frac_data = frac_data\n",
    "        self.frac_start = frac_start\n",
    "        self.frac_end = frac_end\n",
    "\n",
    "        # Initialize data files:\n",
    "        self.users_file = users_file\n",
    "        self.rt_file = rt_file\n",
    "\n",
    "        # Initializing dataframes:\n",
    "        self.users_df = pd.DataFrame()\n",
    "        self.rt_df = pd.DataFrame()\n",
    "\n",
    "    # Function to load raw data:\n",
    "    def load_raw_data(self):\n",
    "\n",
    "        print('Loading unprocessed user rating and retweet network datasets.', flush=True)\n",
    "\n",
    "        # Load user ratings dataframe if file path exists:\n",
    "        if os.path.exists(self.users_file):\n",
    "            self.users_df = pd.read_csv(self.users_file)\n",
    "            self.users_df = self.users_df.set_index('userid')\n",
    "        else:\n",
    "            return 'Users ratings file does not exist.'\n",
    "\n",
    "        # Define retweet network dataframe if file path exists:\n",
    "        if os.path.exists(self.rt_file):\n",
    "            self.rt_df = pd.read_csv(self.rt_file)\n",
    "\n",
    "        print('Datasets loaded. Processing and joining datasets.', flush=True)\n",
    "\n",
    "    # Function to preprocess loaded raw data:\n",
    "    def preprocess_data(self, min_tweets=5):\n",
    "\n",
    "        # Subset to conservative ego ratings:\n",
    "        if self.poli_affil == 'right':\n",
    "            self.users_df = self.users_df[self.users_df['orig_rating'] > 0]\n",
    "\n",
    "        # Subset to liberal ego ratings and convert ratings to positive scale:\n",
    "        elif self.poli_affil == 'left':\n",
    "            self.users_df = self.users_df[self.users_df['orig_rating'] < 0]\n",
    "            self.users_df['orig_rating'] = self.users_df['orig_rating'] * -1\n",
    "\n",
    "        # Subset based on min tweet threshold:\n",
    "        self.users_df = self.users_df[self.users_df['orig_total_count'] >= min_tweets]\n",
    "\n",
    "        # Subset retweet network ID to contain only egos and peers that meet min tweet threshold:\n",
    "        userid_condition = self.rt_df['userid'].isin(self.users_df.index)\n",
    "        rt_userid_condition = self.rt_df['rt_userid'].isin(self.users_df.index)\n",
    "        self.rt_df = self.rt_df[userid_condition & rt_userid_condition]\n",
    "\n",
    "        # Remove observations where user retweeted self\n",
    "        self.rt_df = self.rt_df[self.rt_df['userid'] != self.rt_df['rt_userid']]\n",
    "\n",
    "        # Subset fraction of users if needed to speed up simulation:\n",
    "        if self.frac_data:\n",
    "\n",
    "            # Get unique user ID values:\n",
    "            all_users = np.unique(self.rt_df['userid'].values)\n",
    "\n",
    "            # Subset to specified fraction of users:\n",
    "            n_users_start = int(self.frac_start*len(all_users))\n",
    "            n_users_end = int(len(all_users) * self.frac_end)\n",
    "            users_fraction = all_users[n_users_start:n_users_end]\n",
    "\n",
    "            # Return dataset with only user IDs in specified fraction:\n",
    "            self.rt_df = self.rt_df[self.rt_df['userid'].isin(users_fraction)]\n",
    "\n",
    "    # Function to join dataframes:\n",
    "    def join_data(self):\n",
    "\n",
    "        # Join on user ID and retweet user ID:\n",
    "        self.rt_df = self.rt_df.join(self.users_df[['orig_rating']],\n",
    "                                     on='userid').join(self.users_df[['orig_rating']],\n",
    "                                                       on='rt_userid',\n",
    "                                                       rsuffix='_peer')\\\n",
    "            .rename(columns={'orig_rating': 'orig_rating_ego'})\n",
    "\n",
    "        print('Datasets joined. Data successfully loaded.', flush=True)\n",
    "\n",
    "    # Main function that returns final dataframe:\n",
    "    def get_retweet_data(self):\n",
    "        self.load_raw_data()\n",
    "        self.preprocess_data()\n",
    "        self.join_data()\n",
    "\n",
    "        return self.rt_df\n"
   ]
  },
  {
   "cell_type": "code",
   "execution_count": 3,
   "metadata": {},
   "outputs": [
    {
     "name": "stdout",
     "output_type": "stream",
     "text": [
      "Loading unprocessed user rating and retweet network datasets.\n",
      "Datasets loaded. Processing and joining datasets.\n",
      "Datasets joined. Data successfully loaded.\n"
     ]
    }
   ],
   "source": [
    "rt_df_left = TwitterDataProcessor(poli_affil='left').get_retweet_data()"
   ]
  },
  {
   "cell_type": "code",
   "execution_count": 7,
   "metadata": {},
   "outputs": [],
   "source": [
    "rt_df_left['poli_affil'] = np.repeat('left', len(rt_df_left))"
   ]
  },
  {
   "cell_type": "code",
   "execution_count": 6,
   "metadata": {},
   "outputs": [],
   "source": [
    "peer_ratings_left = rt_df_left['orig_rating_peer'].values\n",
    "skewness_left = skewtest(peer_ratings_left)"
   ]
  },
  {
   "cell_type": "code",
   "execution_count": 9,
   "metadata": {},
   "outputs": [
    {
     "data": {
      "text/plain": [
       "0.9347909632886446"
      ]
     },
     "execution_count": 9,
     "metadata": {},
     "output_type": "execute_result"
    }
   ],
   "source": [
    "skew(peer_ratings_left)"
   ]
  },
  {
   "cell_type": "code",
   "execution_count": 7,
   "metadata": {},
   "outputs": [
    {
     "data": {
      "text/plain": [
       "SkewtestResult(statistic=520.2962758137397, pvalue=0.0)"
      ]
     },
     "execution_count": 7,
     "metadata": {},
     "output_type": "execute_result"
    }
   ],
   "source": [
    "skewness_left"
   ]
  },
  {
   "cell_type": "code",
   "execution_count": 39,
   "metadata": {},
   "outputs": [
    {
     "name": "stderr",
     "output_type": "stream",
     "text": [
      "/Users/davidbailey/opt/anaconda3/lib/python3.9/site-packages/seaborn/distributions.py:2619: FutureWarning: `distplot` is a deprecated function and will be removed in a future version. Please adapt your code to use either `displot` (a figure-level function with similar flexibility) or `histplot` (an axes-level function for histograms).\n",
      "  warnings.warn(msg, FutureWarning)\n"
     ]
    },
    {
     "data": {
      "text/plain": [
       "<AxesSubplot:ylabel='Density'>"
      ]
     },
     "execution_count": 39,
     "metadata": {},
     "output_type": "execute_result"
    },
    {
     "data": {
      "image/png": "[encoded data removed]",
      "text/plain": [
       "<Figure size 432x288 with 1 Axes>"
      ]
     },
     "metadata": {
      "needs_background": "light"
     },
     "output_type": "display_data"
    }
   ],
   "source": [
    "sns.distplot(peer_ratings_left)"
   ]
  },
  {
   "cell_type": "code",
   "execution_count": 4,
   "metadata": {},
   "outputs": [
    {
     "name": "stdout",
     "output_type": "stream",
     "text": [
      "Loading unprocessed user rating and retweet network datasets.\n",
      "Datasets loaded. Processing and joining datasets.\n",
      "Datasets joined. Data successfully loaded.\n"
     ]
    }
   ],
   "source": [
    "rt_df_right = TwitterDataProcessor(poli_affil='right').get_retweet_data()"
   ]
  },
  {
   "cell_type": "code",
   "execution_count": 8,
   "metadata": {},
   "outputs": [],
   "source": [
    "rt_df_right['poli_affil'] = np.repeat('right', len(rt_df_right))"
   ]
  },
  {
   "cell_type": "code",
   "execution_count": 13,
   "metadata": {},
   "outputs": [],
   "source": [
    "peer_ratings_right = rt_df_right['orig_rating_peer'].values\n",
    "skewness_right = skewtest(peer_ratings_right)"
   ]
  },
  {
   "cell_type": "code",
   "execution_count": 14,
   "metadata": {},
   "outputs": [
    {
     "data": {
      "text/plain": [
       "-0.23836555230365006"
      ]
     },
     "execution_count": 14,
     "metadata": {},
     "output_type": "execute_result"
    }
   ],
   "source": [
    "skew(peer_ratings_right)"
   ]
  },
  {
   "cell_type": "code",
   "execution_count": 15,
   "metadata": {},
   "outputs": [
    {
     "data": {
      "text/plain": [
       "SkewtestResult(statistic=-125.99412016657624, pvalue=0.0)"
      ]
     },
     "execution_count": 15,
     "metadata": {},
     "output_type": "execute_result"
    }
   ],
   "source": [
    "skewness_right"
   ]
  },
  {
   "cell_type": "code",
   "execution_count": 45,
   "metadata": {},
   "outputs": [
    {
     "name": "stderr",
     "output_type": "stream",
     "text": [
      "/Users/davidbailey/opt/anaconda3/lib/python3.9/site-packages/seaborn/distributions.py:2619: FutureWarning: `distplot` is a deprecated function and will be removed in a future version. Please adapt your code to use either `displot` (a figure-level function with similar flexibility) or `histplot` (an axes-level function for histograms).\n",
      "  warnings.warn(msg, FutureWarning)\n"
     ]
    },
    {
     "data": {
      "text/plain": [
       "<AxesSubplot:ylabel='Density'>"
      ]
     },
     "execution_count": 45,
     "metadata": {},
     "output_type": "execute_result"
    },
    {
     "data": {
      "image/png": "[encoded data removed]",
      "text/plain": [
       "<Figure size 432x288 with 1 Axes>"
      ]
     },
     "metadata": {
      "needs_background": "light"
     },
     "output_type": "display_data"
    }
   ],
   "source": [
    "sns.distplot(peer_ratings_right)"
   ]
  },
  {
   "cell_type": "code",
   "execution_count": 9,
   "metadata": {},
   "outputs": [],
   "source": [
    "rt_df_all = pd.concat([rt_df_left, rt_df_right], axis=0)\n",
    "rt_df_all.to_csv('../data/rt_data_processed.csv', index=False)"
   ]
  },
  {
   "cell_type": "code",
   "execution_count": 10,
   "metadata": {},
   "outputs": [
    {
     "data": {
      "text/html": [
       "<div>\n",
       "<style scoped>\n",
       "    .dataframe tbody tr th:only-of-type {\n",
       "        vertical-align: middle;\n",
       "    }\n",
       "\n",
       "    .dataframe tbody tr th {\n",
       "        vertical-align: top;\n",
       "    }\n",
       "\n",
       "    .dataframe thead th {\n",
       "        text-align: right;\n",
       "    }\n",
       "</style>\n",
       "<table border=\"1\" class=\"dataframe\">\n",
       "  <thead>\n",
       "    <tr style=\"text-align: right;\">\n",
       "      <th></th>\n",
       "      <th>userid</th>\n",
       "      <th>rt_userid</th>\n",
       "      <th>rt</th>\n",
       "      <th>orig_rating_ego</th>\n",
       "      <th>orig_rating_peer</th>\n",
       "      <th>poli_affil</th>\n",
       "    </tr>\n",
       "  </thead>\n",
       "  <tbody>\n",
       "    <tr>\n",
       "      <th>698</th>\n",
       "      <td>785</td>\n",
       "      <td>939091</td>\n",
       "      <td>14</td>\n",
       "      <td>0.8</td>\n",
       "      <td>0.916667</td>\n",
       "      <td>left</td>\n",
       "    </tr>\n",
       "    <tr>\n",
       "      <th>699</th>\n",
       "      <td>785</td>\n",
       "      <td>2199541</td>\n",
       "      <td>1</td>\n",
       "      <td>0.8</td>\n",
       "      <td>1.142857</td>\n",
       "      <td>left</td>\n",
       "    </tr>\n",
       "    <tr>\n",
       "      <th>702</th>\n",
       "      <td>785</td>\n",
       "      <td>15464697</td>\n",
       "      <td>1</td>\n",
       "      <td>0.8</td>\n",
       "      <td>0.200000</td>\n",
       "      <td>left</td>\n",
       "    </tr>\n",
       "    <tr>\n",
       "      <th>703</th>\n",
       "      <td>785</td>\n",
       "      <td>15907183</td>\n",
       "      <td>1</td>\n",
       "      <td>0.8</td>\n",
       "      <td>0.428571</td>\n",
       "      <td>left</td>\n",
       "    </tr>\n",
       "    <tr>\n",
       "      <th>704</th>\n",
       "      <td>785</td>\n",
       "      <td>16471280</td>\n",
       "      <td>1</td>\n",
       "      <td>0.8</td>\n",
       "      <td>0.428571</td>\n",
       "      <td>left</td>\n",
       "    </tr>\n",
       "  </tbody>\n",
       "</table>\n",
       "</div>"
      ],
      "text/plain": [
       "     userid  rt_userid  rt  orig_rating_ego  orig_rating_peer poli_affil\n",
       "698     785     939091  14              0.8          0.916667       left\n",
       "699     785    2199541   1              0.8          1.142857       left\n",
       "702     785   15464697   1              0.8          0.200000       left\n",
       "703     785   15907183   1              0.8          0.428571       left\n",
       "704     785   16471280   1              0.8          0.428571       left"
      ]
     },
     "execution_count": 10,
     "metadata": {},
     "output_type": "execute_result"
    }
   ],
   "source": [
    "rt_df_all.head()"
   ]
  },
  {
   "cell_type": "code",
   "execution_count": null,
   "metadata": {},
   "outputs": [],
   "source": []
  }
 ],
 "metadata": {
  "kernelspec": {
   "display_name": "Python 3",
   "language": "python",
   "name": "python3"
  },
  "language_info": {
   "codemirror_mode": {
    "name": "ipython",
    "version": 3
   },
   "file_extension": ".py",
   "mimetype": "text/x-python",
   "name": "python",
   "nbconvert_exporter": "python",
   "pygments_lexer": "ipython3",
   "version": "3.8.3"
  }
 },
 "nbformat": 4,
 "nbformat_minor": 5
}
